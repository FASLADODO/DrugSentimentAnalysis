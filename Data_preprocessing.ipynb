{
 "cells": [
  {
   "cell_type": "code",
   "execution_count": 1,
   "metadata": {},
   "outputs": [
    {
     "name": "stderr",
     "output_type": "stream",
     "text": [
      "Using TensorFlow backend.\n"
     ]
    }
   ],
   "source": [
    "import pandas as pd\n",
    "import nltk\n",
    "import numpy as np\n",
    "import pickle\n",
    "import re\n",
    "import gc\n",
    "\n",
    "from nltk.stem import SnowballStemmer\n",
    "from nltk.corpus import stopwords\n",
    "from nltk.corpus import wordnet\n",
    "from nltk.stem import WordNetLemmatizer\n",
    "from gensim.models.keyedvectors import KeyedVectors\n",
    "\n",
    "from keras.preprocessing.text import Tokenizer\n",
    "\n",
    "import Utils.data_utils as data"
   ]
  },
  {
   "cell_type": "code",
   "execution_count": 2,
   "metadata": {
    "scrolled": true
   },
   "outputs": [],
   "source": [
    "#%time data_x, data_y = load_data('dataset/Raw/Train.tsv', [1, 3, 4], True, 1)\n",
    "MAX_NB_WORDS = 30000\n",
    "EMBEDDING_DIM = 200\n",
    "MAX_SEQUENCE_LENGTH = 10000\n",
    "\n",
    "path_train = 'dataset/Raw/Train.csv'\n",
    "path_test = 'dataset/Raw/Test.csv'\n",
    "# path_w2v = 'w2v/Set9_TweetDataWithSpam_GeneralData_Word.bin'\n",
    "\n",
    "tokenizer = Tokenizer(num_words=MAX_NB_WORDS)\n",
    "dataset = data.Dataset()"
   ]
  },
  {
   "cell_type": "code",
   "execution_count": 3,
   "metadata": {},
   "outputs": [],
   "source": [
    "#dataset.load_pickle(path_train, path_test, label_name='rating')\n",
    "dataset.load_csv(path_train, path_test, label_name='rating', separator='\\t', columns=[3,4])\n",
    "dataset.parse_to_word_list(parse_col_name='review', alphanum_sep=True, blind_num=True, blind_character='$number')\n",
    "# model = KeyedVectors.load_word2vec_format(path_w2v, binary=True)"
   ]
  },
  {
   "cell_type": "code",
   "execution_count": 4,
   "metadata": {},
   "outputs": [
    {
     "data": {
      "text/plain": [
       "[                                                   review  rating\n",
       " 0       [it, has, no, side, effect, ,, i, take, it, in...     9.0\n",
       " 1       [my, son, is, halfway, through, his, fourth, w...     8.0\n",
       " 2       [i, used, to, take, another, oral, contracepti...     5.0\n",
       " 3       [this, is, my, first, time, using, any, form, ...     8.0\n",
       " 4       [suboxone, has, completely, turned, my, life, ...     9.0\n",
       " ...                                                   ...     ...\n",
       " 161292  [i, wrote, my, first, report, in, mid, october...    10.0\n",
       " 161293  [i, was, given, this, in, iv, before, surgey, ...     1.0\n",
       " 161294  [limited, improvement, after, $, number, month...     2.0\n",
       " 161295  [i, ve, been, on, thyroid, medication, $, numb...    10.0\n",
       " 161296  [i, ve, had, chronic, constipation, all, my, a...     9.0\n",
       " \n",
       " [161297 rows x 2 columns],\n",
       "                                                   review  rating\n",
       " 0      [i, ve, tried, a, few, antidepressants, over, ...    10.0\n",
       " 1      [my, son, has, crohn, s, disease, and, has, do...     8.0\n",
       " 2                       [quick, reduction, of, symptoms]     9.0\n",
       " 3      [contrave, combines, drugs, that, were, used, ...     9.0\n",
       " 4      [i, have, been, on, this, birth, control, for,...     9.0\n",
       " ...                                                  ...     ...\n",
       " 53761  [i, have, taken, tamoxifen, for, $, number, ye...    10.0\n",
       " 53762  [i, ve, been, taking, lexapro, escitaploprgram...     9.0\n",
       " 53763  [i, m, married, ,, $, number, years, old, and,...     8.0\n",
       " 53764  [i, was, prescribed, nucynta, for, severe, nec...     1.0\n",
       " 53765                                        [it, works]     9.0\n",
       " \n",
       " [53766 rows x 2 columns]]"
      ]
     },
     "execution_count": 4,
     "metadata": {},
     "output_type": "execute_result"
    }
   ],
   "source": [
    "dataset.get_all()"
   ]
  },
  {
   "cell_type": "code",
   "execution_count": 8,
   "metadata": {},
   "outputs": [],
   "source": [
    "dataset.save_pickle('./dataset/Processed/Train_lemma_coma_blind_num.pickle', './dataset/Processed/Test_lemma_coma_blind_num.pickle')"
   ]
  }
 ],
 "metadata": {
  "kernelspec": {
   "display_name": "Python 3",
   "language": "python",
   "name": "python3"
  },
  "language_info": {
   "codemirror_mode": {
    "name": "ipython",
    "version": 3
   },
   "file_extension": ".py",
   "mimetype": "text/x-python",
   "name": "python",
   "nbconvert_exporter": "python",
   "pygments_lexer": "ipython3",
   "version": "3.6.1"
  }
 },
 "nbformat": 4,
 "nbformat_minor": 2
}
